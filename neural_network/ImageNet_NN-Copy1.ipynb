{
 "cells": [
  {
   "cell_type": "code",
   "execution_count": 1,
   "metadata": {
    "collapsed": false,
    "deletable": true,
    "editable": true
   },
   "outputs": [],
   "source": [
    "%matplotlib inline\n",
    "\n",
    "from NeuralNetwork import *"
   ]
  },
  {
   "cell_type": "markdown",
   "metadata": {
    "deletable": true,
    "editable": true
   },
   "source": [
    "# ImageNet Classification"
   ]
  },
  {
   "cell_type": "code",
   "execution_count": 2,
   "metadata": {
    "collapsed": true,
    "deletable": true,
    "editable": true
   },
   "outputs": [],
   "source": [
    "from skimage.color import rgb2grey\n",
    "from sklearn.model_selection import train_test_split\n",
    "\n",
    "trainX_raw = np.load('../data/tinyX.npy') # this should have shape (26344, 3, 64, 64)\n",
    "trainY_raw = np.load('../data/tinyY.npy') \n",
    "testX_raw = np.load('../data/tinyX_test.npy') # (6600, 3, 64, 64)\n",
    "\n",
    "# Sample Size\n",
    "n_train,_,_,_ = trainX_raw.shape\n",
    "n_test,_,_,_ = testX_raw.shape\n",
    "\n",
    "#Number of Classes\n",
    "k_class = np.unique(trainY_raw).size\n",
    "\n",
    "trainX_grey = np.array(map(lambda img: rgb2grey(img.transpose(2,1,0)), trainX_raw))\n",
    "\n",
    "trainX_flat = trainX_grey.reshape((n_train, -1))\n",
    "\n",
    "trainY_1hot = np.zeros((n_train, k_class), dtype=bool)\n",
    "\n",
    "trainY_1hot[np.arange(n_train), trainY_raw] = 1"
   ]
  },
  {
   "cell_type": "code",
   "execution_count": 3,
   "metadata": {
    "collapsed": false,
    "deletable": true,
    "editable": true
   },
   "outputs": [
    {
     "data": {
      "text/plain": [
       "(420, 4096)"
      ]
     },
     "execution_count": 3,
     "metadata": {},
     "output_type": "execute_result"
    }
   ],
   "source": [
    "# X_tset, X_vset, Y_tset, Y_vset = train_test_split(trainX_flat, trainY_1hot, test_size=0.98, random_state=42)\n",
    "\n",
    "X_batch, _, Y_batch, _ = train_test_split(trainX_flat, trainY_1hot, test_size=0.98, random_state=42)\n",
    "\n",
    "X_tset, X_vset, Y_tset, Y_vset = train_test_split(X_batch, Y_batch, test_size=0.2, random_state=42)\n",
    "\n",
    "X_tset.shape"
   ]
  },
  {
   "cell_type": "markdown",
   "metadata": {
    "deletable": true,
    "editable": true
   },
   "source": [
    "#### Cross-Validation"
   ]
  },
  {
   "cell_type": "code",
   "execution_count": null,
   "metadata": {
    "collapsed": false,
    "deletable": true,
    "editable": true
   },
   "outputs": [
    {
     "name": "stdout",
     "output_type": "stream",
     "text": [
      "#HiddenLayers = 1 #Node = [ 6.]\n",
      "accuracy = 0.0\n",
      "#HiddenLayers = 2 #Node = [ 4.  7.]\n",
      "accuracy = 0.0283018867925\n",
      "#HiddenLayers = 3 #Node = [ 9.  6.  6.]\n"
     ]
    }
   ],
   "source": [
    "hlayer_n = [1, 2, 3, 4, 5]\n",
    "\n",
    "for l in hlayer_n:\n",
    "    model_imgNet = Model()\n",
    "\n",
    "    nodes_n = np.floor(np.random.rand(l)*10)\n",
    "    \n",
    "    model_imgNet.add(Dense(output_dim=int(nodes_n[0]), input_dim=4096))\n",
    "    model_imgNet.add(Activation(func_type = \"sigmoid\"))\n",
    "    for i in range(l)[1:]:\n",
    "        model_imgNet.add(Dense(output_dim=int(nodes_n[i])))\n",
    "        model_imgNet.add(Activation(func_type = \"sigmoid\"))\n",
    "    model_imgNet.add(Dense(output_dim=40))\n",
    "    model_imgNet.add(Activation(func_type = \"sigmoid\", bias = False))\n",
    "\n",
    "    model_imgNet.compose(loss = Loss('squared_error'))\n",
    "    \n",
    "    print('#HiddenLayers = ' + str(l) + ' #Node = ' + str(nodes_n))\n",
    "    \n",
    "    model_imgNet.fit(X_tset, Y_tset, epoch=5, alpha = 0.0001)\n",
    "    Y_vset_pred = np.argmax(model_imgNet.predict(X_vset), 1)\n",
    "    Y_vset_true = np.argmax(Y_vset, 1)\n",
    "    \n",
    "    accuracy = np.sum(Y_vset_pred == Y_vset_true, dtype=float)/Y_vset.shape[0]\n",
    "    print('accuracy = ' + str(accuracy))"
   ]
  }
 ],
 "metadata": {
  "kernelspec": {
   "display_name": "Python 2",
   "language": "python",
   "name": "python2"
  },
  "language_info": {
   "codemirror_mode": {
    "name": "ipython",
    "version": 2
   },
   "file_extension": ".py",
   "mimetype": "text/x-python",
   "name": "python",
   "nbconvert_exporter": "python",
   "pygments_lexer": "ipython2",
   "version": "2.7.6"
  }
 },
 "nbformat": 4,
 "nbformat_minor": 2
}
